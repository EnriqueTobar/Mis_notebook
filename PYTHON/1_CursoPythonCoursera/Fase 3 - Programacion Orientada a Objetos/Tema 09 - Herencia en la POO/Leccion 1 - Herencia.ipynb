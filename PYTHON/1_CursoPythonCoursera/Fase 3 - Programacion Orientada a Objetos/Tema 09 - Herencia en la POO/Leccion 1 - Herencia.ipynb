{
 "cells": [
  {
   "cell_type": "code",
   "execution_count": 2,
   "metadata": {},
   "outputs": [],
   "source": [
    "# Capacidad que tiene una clase de heredar, superclase -> clases\n",
    "# ¿cómo y cuándo usarla?\n",
    "\n",
    "# Ejemplo clásico: gestión de producto - en la tienda se vendia 3 tipos de productos, todos tenían similares\n",
    "class Producto:\n",
    "    \n",
    "    def __init__(self, referencia, tipo, nombre, pvp, descripcion, productor=None, distribuidor=None, isbn=None, autor=None):\n",
    "        self.referencia = referencia\n",
    "        self.tipo = tipo\n",
    "        self.nombre = nombre\n",
    "        self.pvp = pvp\n",
    "        self.descripcion = descripcion\n",
    "        self.productor = productor\n",
    "        self.distribuidor = distribuidor\n",
    "        self.isbn = isbn \n",
    "        self.autor = autor\n",
    "    \n",
    "adorno = Producto('000A','ADORNO','Vaso Adornado',15,'Vaso de porcelana con dibujos')\n"
   ]
  },
  {
   "cell_type": "code",
   "execution_count": 3,
   "metadata": {},
   "outputs": [
    {
     "data": {
      "text/plain": [
       "<__main__.Producto at 0x25f34667808>"
      ]
     },
     "execution_count": 3,
     "metadata": {},
     "output_type": "execute_result"
    }
   ],
   "source": [
    "adorno"
   ]
  },
  {
   "cell_type": "code",
   "execution_count": 4,
   "metadata": {},
   "outputs": [
    {
     "data": {
      "text/plain": [
       "'ADORNO'"
      ]
     },
     "execution_count": 4,
     "metadata": {},
     "output_type": "execute_result"
    }
   ],
   "source": [
    "adorno.tipo"
   ]
  },
  {
   "cell_type": "code",
   "execution_count": 5,
   "metadata": {},
   "outputs": [],
   "source": [
    "# Dado que para libros un atributo productor no tiene mucho sentido por lo tanto no hay mucha eficiencia en cuando \n",
    "# a un depurado de información."
   ]
  },
  {
   "cell_type": "code",
   "execution_count": 14,
   "metadata": {},
   "outputs": [
    {
     "name": "stdout",
     "output_type": "stream",
     "text": [
      "\n",
      "REFERENCIA\t2034\n",
      "NOMBRE\t\tVaso adornado\n",
      "PVP\t\t15\n",
      "DESCRIPCIÓN\tVaso de porcelana adornado con árboles\n"
     ]
    }
   ],
   "source": [
    "# De otra forma, ésta sería nuestra super clase\n",
    "class Producto:\n",
    "    \n",
    "    def __init__(self, referencia, nombre, pvp, descripcion):\n",
    "        self.referencia = referencia\n",
    "        self.nombre = nombre\n",
    "        self.pvp = pvp\n",
    "        self.descripcion = descripcion\n",
    "        \n",
    "    def __str__(self):\n",
    "        return \"\"\"\n",
    "REFERENCIA\\t{}\n",
    "NOMBRE\\t\\t{}\n",
    "PVP\\t\\t{}\n",
    "DESCRIPCIÓN\\t{}\"\"\".format(self.referencia, self.nombre, self.pvp, self.descripcion)\n",
    "    \n",
    "class Adorno(Producto):\n",
    "    pass\n",
    "\n",
    "a = Adorno(2034, \"Vaso adornado\",15,\"Vaso de porcelana adornado con árboles\")\n",
    "print(a)\n",
    "\n",
    "       "
   ]
  },
  {
   "cell_type": "code",
   "execution_count": 16,
   "metadata": {},
   "outputs": [
    {
     "name": "stdout",
     "output_type": "stream",
     "text": [
      "\n",
      "REFERENCIA\t2035\n",
      "NOMBRE\t\tBotella de Aceite de Oliva Extra\n",
      "PVP\t\t5\n",
      "DESCRIPCIÓN\t250 ML\n",
      "PRODUCTOR\tLa Aceitera\n",
      "DISTRIBUIDOR\tDistribuidor SA\n"
     ]
    }
   ],
   "source": [
    "class Alimento(Producto):\n",
    "    productor = \"\"\n",
    "    distribuidor = \"\"\n",
    "\n",
    "    def __str__(self):\n",
    "        return \"\"\"\n",
    "REFERENCIA\\t{}\n",
    "NOMBRE\\t\\t{}\n",
    "PVP\\t\\t{}\n",
    "DESCRIPCIÓN\\t{}\n",
    "PRODUCTOR\\t{}\n",
    "DISTRIBUIDOR\\t{}\"\"\".format(self.referencia, self.nombre, self.pvp,self.descripcion,self.productor,self.distribuidor)\n",
    "    \n",
    "    \n",
    "al = Alimento(2035,\"Botella de Aceite de Oliva Extra\",5,\"250 ML\")\n",
    "al.productor = \"La Aceitera\"\n",
    "al.distribuidor = \"Distribuidor SA\"\n",
    "\n",
    "print(al)"
   ]
  },
  {
   "cell_type": "code",
   "execution_count": 20,
   "metadata": {},
   "outputs": [
    {
     "name": "stdout",
     "output_type": "stream",
     "text": [
      "\n",
      "REFERENCIA\t2036\n",
      "NOMBRE\t\tCocina Mediterránea\n",
      "PVP\t\t9\n",
      "DESCRIPCIÓN\tRecetas sanas y buenas\n",
      "ISBN\t\t0-123456-78-9\n",
      "AUTOR\t\tDoña Juana\n"
     ]
    }
   ],
   "source": [
    "class Libro(Producto):\n",
    "    isbn = \"\"\n",
    "    autor = \"\"\n",
    "\n",
    "    def __str__(self):\n",
    "        return \"\"\"\n",
    "REFERENCIA\\t{}\n",
    "NOMBRE\\t\\t{}\n",
    "PVP\\t\\t{}\n",
    "DESCRIPCIÓN\\t{}\n",
    "ISBN\\t\\t{}\n",
    "AUTOR\\t\\t{}\"\"\".format(self.referencia, self.nombre, self.pvp,self.descripcion,self.isbn,self.autor)\n",
    "    \n",
    "li = Libro(2036,\"Cocina Mediterránea\", 9, \"Recetas sanas y buenas\")\n",
    "li.isbn = \"0-123456-78-9\"\n",
    "li.autor = \"Doña Juana\"\n",
    "\n",
    "print(li)"
   ]
  },
  {
   "cell_type": "code",
   "execution_count": null,
   "metadata": {},
   "outputs": [],
   "source": []
  }
 ],
 "metadata": {
  "kernelspec": {
   "display_name": "Python 3",
   "language": "python",
   "name": "python3"
  },
  "language_info": {
   "codemirror_mode": {
    "name": "ipython",
    "version": 3
   },
   "file_extension": ".py",
   "mimetype": "text/x-python",
   "name": "python",
   "nbconvert_exporter": "python",
   "pygments_lexer": "ipython3",
   "version": "3.7.6"
  }
 },
 "nbformat": 4,
 "nbformat_minor": 1
}
