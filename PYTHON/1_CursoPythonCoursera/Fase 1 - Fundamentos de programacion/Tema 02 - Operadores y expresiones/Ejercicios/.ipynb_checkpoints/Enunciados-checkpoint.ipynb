{
 "cells": [
  {
   "cell_type": "markdown",
   "metadata": {},
   "source": [
    "# Tema 02: Operadores y expresiones (Enunciados)\n",
    "*Nota: Estos ejercicios son optativos para hacer al final de la unidad y están pensados para apoyar tu aprendizaje*."
   ]
  },
  {
   "cell_type": "markdown",
   "metadata": {},
   "source": [
    "**1) Realiza un programa que lea 2 números por teclado y determine los siguientes aspectos (es suficiene con mostrar True o False):**\n",
    "* Si los dos números son iguales\n",
    "* Si los dos números son diferentes\n",
    "* Si el primero es mayor que el segundo\n",
    "* Si el segundo es mayor o igual que el primero"
   ]
  },
  {
   "cell_type": "code",
   "execution_count": 3,
   "metadata": {},
   "outputs": [
    {
     "name": "stdout",
     "output_type": "stream",
     "text": [
      "introduce el primer número: 5\n",
      "introduce el segundo número: 7\n",
      "¿Son iguales? False\n",
      "¿Son diferentes True\n",
      "¿El primero es mayor que el segundo? False\n",
      "¿El segundo es mayor o igual que el primero? True\n"
     ]
    }
   ],
   "source": [
    "n1 = float(input( \"introduce el primer número: \"))\n",
    "n2 = float(input( \"introduce el segundo número: \"))\n",
    "print( \"¿Son iguales?\", n1 == n2)\n",
    "print( \"¿Son diferentes\", n1 != n2)\n",
    "print( \"¿El primero es mayor que el segundo?\", n1 > n2)\n",
    "print( \"¿El segundo es mayor o igual que el primero?\", n2 >= n1)\n"
   ]
  },
  {
   "cell_type": "markdown",
   "metadata": {},
   "source": [
    "**2) Utilizando operadores lógicos, determina si una cadena de texto introducida por el usuario tiene una longitud mayor o igual que 3 y a su vez es menor que 10 (es suficiene con mostrar True o False):**"
   ]
  },
  {
   "cell_type": "code",
   "execution_count": 5,
   "metadata": {},
   "outputs": [
    {
     "name": "stdout",
     "output_type": "stream",
     "text": [
      "Escribe una cadena: hola amigos \n",
      "¿La longitud de la cadena es mayor o igual que 3 y menor que 10? False\n"
     ]
    }
   ],
   "source": [
    "cadena = input(\"Escribe una cadena: \")\n",
    "condiciones = len(cadena) >= 3 and len(cadena) < 10\n",
    "print(\"¿La longitud de la cadena es mayor o igual que 3 y menor que 10?\", condiciones)"
   ]
  },
  {
   "cell_type": "markdown",
   "metadata": {},
   "source": [
    "**3) Realiza un programa que cumpla el siguiente algoritmo utilizando siempre que sea posible operadores en asignación:**\n",
    "* Guarda en una variable numero_magico el valor 12345679 (sin el 8)\n",
    "* Lee por pantalla otro numero_usuario, especifica que sea entre 1 y 9 (asegúrate que es un número)\n",
    "* Multiplica el numero_usuario por 9 en sí mismo\n",
    "* Multiplica el numero_magico por el numero_usuario en sí mismo\n",
    "* Finalmente muestra el valor final del numero_magico por pantalla\n"
   ]
  },
  {
   "cell_type": "code",
   "execution_count": 7,
   "metadata": {},
   "outputs": [
    {
     "name": "stdout",
     "output_type": "stream",
     "text": [
      "ingrese número entre 1 y 9 5\n",
      "El Número mágico es: 555555555\n"
     ]
    }
   ],
   "source": [
    "numero_magico = 12345679\n",
    "numero_usuario = int(input(\"ingrese número entre 1 y 9 \"))\n",
    "numero_usuario *= 9\n",
    "numero_magico *= numero_usuario\n",
    "print(\"El Número mágico es:\", numero_magico)\n"
   ]
  },
  {
   "cell_type": "code",
   "execution_count": null,
   "metadata": {},
   "outputs": [],
   "source": []
  }
 ],
 "metadata": {
  "anaconda-cloud": {},
  "kernelspec": {
   "display_name": "Python 3",
   "language": "python",
   "name": "python3"
  },
  "language_info": {
   "codemirror_mode": {
    "name": "ipython",
    "version": 3
   },
   "file_extension": ".py",
   "mimetype": "text/x-python",
   "name": "python",
   "nbconvert_exporter": "python",
   "pygments_lexer": "ipython3",
   "version": "3.7.6"
  }
 },
 "nbformat": 4,
 "nbformat_minor": 1
}
